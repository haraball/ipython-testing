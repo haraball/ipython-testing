{
 "cells": [
  {
   "cell_type": "code",
   "execution_count": 2,
   "metadata": {
    "collapsed": false
   },
   "outputs": [
    {
     "name": "stdout",
     "output_type": "stream",
     "text": [
      "Bacon ipsum dolor amet swine kielbasa meatloaf jowl. Turducken shankle salami tongue brisket cupim pork belly beef ribs tri-tip sirloin rump picanha tail beef short loin. Shankle jerky leberkas hamburger short ribs tenderloin bresaola chuck. Rump corned beef pastrami pork jowl kevin shoulder. Meatloaf doner pork chop shoulder tri-tip. Spare ribs boudin burgdoggen meatloaf pancetta flank fatback shank shankle ham hock short loin tenderloin pork belly corned beef.\n",
      "\n",
      "Turducken chuck kevin beef ribs short ribs porchetta doner strip steak jowl prosciutto pancetta corned beef ribeye. Meatloaf leberkas meatball, venison doner kevin pancetta fatback ribeye shank. Meatball turducken frankfurter pastrami beef ribs ham porchetta tongue. Ham strip steak fatback, swine biltong t-bone bacon beef ribs ground round jowl pork belly kevin andouille pork. Venison turducken ribeye, pork belly kielbasa tri-tip ham hock ground round. Ham meatloaf brisket short ribs, pork belly fatback swine pork loin drumstick t-bone cupim leberkas meatball turducken. Beef ribs venison flank turducken pig, corned beef shankle andouille boudin meatloaf sirloin pork chop pork loin fatback.\n",
      "\n"
     ]
    }
   ],
   "source": [
    "with open('lorem_bacon.txt') as fh:\n",
    "    for linenum, line in enumerate(fh):\n",
    "        if linenum > 3:\n",
    "            break\n",
    "        print(line.strip())"
   ]
  }
 ],
 "metadata": {
  "kernelspec": {
   "display_name": "Python 3",
   "language": "python",
   "name": "python3"
  },
  "language_info": {
   "codemirror_mode": {
    "name": "ipython",
    "version": 3
   },
   "file_extension": ".py",
   "mimetype": "text/x-python",
   "name": "python",
   "nbconvert_exporter": "python",
   "pygments_lexer": "ipython3",
   "version": "3.5.1"
  }
 },
 "nbformat": 4,
 "nbformat_minor": 1
}
